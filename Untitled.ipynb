{
 "cells": [
  {
   "cell_type": "code",
   "execution_count": null,
   "metadata": {},
   "outputs": [],
   "source": [
    "import serial    #import serial module\n",
    "ser = serial.Serial('/dev/ttyAMA0', 9600,timeout=1);   #open named port at 9600,1s timeot\n",
    "\n",
    "#try and exceptstructure are exception handler\n",
    "try:\n",
    "  while 1:\n",
    "    ser.write('s'.encode());#writ a string to port\n",
    "    response = ser.readall();#read a string from port\n",
    "    print(response);\n",
    "except:\n",
    "  ser.close();\n"
   ]
  },
  {
   "cell_type": "code",
   "execution_count": null,
   "metadata": {},
   "outputs": [],
   "source": []
  }
 ],
 "metadata": {
  "kernelspec": {
   "display_name": "Python 3",
   "language": "python",
   "name": "python3"
  },
  "language_info": {
   "codemirror_mode": {
    "name": "ipython",
    "version": 3
   },
   "file_extension": ".py",
   "mimetype": "text/x-python",
   "name": "python",
   "nbconvert_exporter": "python",
   "pygments_lexer": "ipython3",
   "version": "3.6.9"
  }
 },
 "nbformat": 4,
 "nbformat_minor": 4
}

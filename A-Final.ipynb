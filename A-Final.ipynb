{
 "cells": [
  {
   "cell_type": "code",
   "execution_count": null,
   "metadata": {},
   "outputs": [],
   "source": [
    "#!/usr/bin/env python3\n",
    "#coding=utf-8\n",
    "import time\n",
    "from Arm_Lib import Arm_Device\n",
    "\n",
    "Arm = Arm_Device()\n",
    "time.sleep(.1)\n"
   ]
  },
  {
   "cell_type": "markdown",
   "metadata": {},
   "source": [
    "# A.浇花"
   ]
  },
  {
   "cell_type": "code",
   "execution_count": null,
   "metadata": {},
   "outputs": [],
   "source": [
    "# 浇水\n",
    "                # 1.0 抓取就位\n",
    "                Arm.Arm_serial_servo_write6(150, 60, -30, 150, 90, 0, 3000)\n",
    "                time.sleep(3)\n",
    "                # 1.1 抓取向前\n",
    "                Arm.Arm_serial_servo_write6(150, 35, 20, 120, 90, 0, 1000)\n",
    "                time.sleep(1)\n",
    "                # 1.2 抓取\n",
    "                id = 6\n",
    "                Arm.Arm_serial_servo_write(id, 140, 500)\n",
    "                time.sleep(1)\n",
    "                # →花盆\n",
    "                Arm.Arm_serial_servo_write6(110, 90, 2, 80, 90, 120, 3000)\n",
    "                time.sleep(3)\n",
    "                # 浇花+回正\n",
    "                id = 5\n",
    "                Arm.Arm_serial_servo_write(id, 120, 3000)\n",
    "                time.sleep(3)\n",
    "                Arm.Arm_serial_servo_write(id, 90, 1000)\n",
    "                time.sleep(1)\n",
    "                # 2.2 缩回\n",
    "                Arm.Arm_serial_servo_write6(150, 60, -30, 150, 90, 0, 3000)\n",
    "                time.sleep(3)\n",
    "                # 0. 复位\n",
    "                Arm.Arm_serial_servo_write6(90, 90, 90, 90, 90, 0, 3000)\n",
    "                time.sleep(3)\n",
    "                # 喷水\n",
    "                # 移动到喷头附近\n",
    "                Arm.Arm_serial_servo_write6(60,60,-30,150,90,50,3000)\n",
    "                time.sleep(3)\n",
    "                #前进\n",
    "                Arm.Arm_serial_servo_write6(60, 35,20,120,90, 25, 3000)\n",
    "                time.sleep(3) \n",
    "                # 抓取\n",
    "                id = 6\n",
    "                Arm.Arm_serial_servo_write(id, 150, 2000)\n",
    "                time.sleep(2)\n",
    "                \n",
    "                #→花盆_high\n",
    "                Arm.Arm_serial_servo_write6(90,90,50,80,90,120,3000)\n",
    "                time.sleep(3)\n",
    "                #左右动type_high\n",
    "                #过渡\n",
    "                Arm.Arm_serial_servo_write6(115,90,50,80,90,120,2000)\n",
    "                time.sleep(2)\n",
    "                #single_left_test\n",
    "                Arm.Arm_serial_servo_write6(115,90,20,80,160,120,2000)\n",
    "                time.sleep(2)\n",
    "                Arm.Arm_serial_servo_write6(115,90,20,60,160,120,2000)\n",
    "                time.sleep(2)\n",
    "                Arm.Arm_serial_servo_write6(115,90,20,40,160,120,2000)\n",
    "                time.sleep(2)\n",
    "                #中间态\n",
    "                id = 3\n",
    "                Arm.Arm_serial_servo_write(id, 55, 2000)\n",
    "                time.sleep(2)\n",
    "\n",
    "                Arm.Arm_serial_servo_write6(90,90,55,80,90,120,3000)\n",
    "                time.sleep(3)\n",
    "                #single_right_test\n",
    "                Arm.Arm_serial_servo_write6(75,90,20,80,20,120,2000)\n",
    "                time.sleep(2)\n",
    "                Arm.Arm_serial_servo_write6(75,90,20,60,20,120,2000)\n",
    "                time.sleep(2)\n",
    "                Arm.Arm_serial_servo_write6(75,90,20,40,20,120,2000)\n",
    "                time.sleep(2)\n",
    "                \n",
    "                #花盆_low\n",
    "                Arm.Arm_serial_servo_write6(55,90,10,80,160,120,3000)\n",
    "                time.sleep(3)\n",
    "                \n",
    "                #左右动type_low\n",
    "                Arm.Arm_serial_servo_write6(40,90,10,60,180,120,3000)\n",
    "                time.sleep(3)\n",
    "                Arm.Arm_serial_servo_write6(25,90,10,60,20,120,4000)\n",
    "                time.sleep(4)\n",
    "\n",
    "                Arm.Arm_serial_servo_write6(40,90,10,60,40,120,3000)\n",
    "                time.sleep(3)\n",
    "\n",
    "                Arm.Arm_serial_servo_write6(55,90,10,60,160,120,2000)\n",
    "                time.sleep(2)\n",
    "                \n",
    "                #放回 \n",
    "                Arm.Arm_serial_servo_write6(60, 35,20,120,90,120, 3000)\n",
    "                time.sleep(3) \n",
    "                id = 6\n",
    "                Arm.Arm_serial_servo_write(id, 50, 2000)\n",
    "                time.sleep(2)\n",
    "                #缩回\n",
    "                Arm.Arm_serial_servo_write6(60,60,-30,150,90,50,3000)\n",
    "                time.sleep(3)\n",
    "                # 0. 复位\n",
    "                Arm.Arm_serial_servo_write6(90, 90, 90, 90, 90, 0, 3000)\n",
    "                time.sleep(3)"
   ]
  },
  {
   "cell_type": "code",
   "execution_count": null,
   "metadata": {},
   "outputs": [],
   "source": []
  },
  {
   "cell_type": "code",
   "execution_count": 16,
   "metadata": {},
   "outputs": [],
   "source": [
    "#1.0抓取就位\n",
    "Arm.Arm_serial_servo_write6(150,60,-30,150,90,0,3000)\n",
    "time.sleep(3)"
   ]
  },
  {
   "cell_type": "code",
   "execution_count": 15,
   "metadata": {},
   "outputs": [],
   "source": [
    "# 1.1 抓取向前\n",
    "                Arm.Arm_serial_servo_write6(150, 35, 20, 120, 90, 0, 1000)\n",
    "                time.sleep(1)"
   ]
  },
  {
   "cell_type": "code",
   "execution_count": 11,
   "metadata": {},
   "outputs": [],
   "source": [
    "#1.2抓取\n",
    "id = 6\n",
    "\n",
    "Arm.Arm_serial_servo_write(id,120, 500)\n",
    "time.sleep(1)"
   ]
  },
  {
   "cell_type": "code",
   "execution_count": null,
   "metadata": {},
   "outputs": [],
   "source": []
  },
  {
   "cell_type": "code",
   "execution_count": 6,
   "metadata": {},
   "outputs": [],
   "source": [
    "#→花盆\n",
    "Arm.Arm_serial_servo_write6(90,90,2,80,90,120,3000)\n",
    "time.sleep(3)\n",
    "#浇花+回正\n",
    "id = 5\n",
    "\n",
    "Arm.Arm_serial_servo_write(id,120, 3000)\n",
    "time.sleep(3)\n",
    "\n",
    "id = 5\n",
    "\n",
    "Arm.Arm_serial_servo_write(id,90, 1000)\n",
    "time.sleep(1)"
   ]
  },
  {
   "cell_type": "code",
   "execution_count": 7,
   "metadata": {},
   "outputs": [],
   "source": [
    "#2.1归位+放回\n",
    "Arm.Arm_serial_servo_write6(150,40,20,120,90,50,3000)\n",
    "time.sleep(3)\n",
    "id = 6\n",
    "\n",
    "Arm.Arm_serial_servo_write(id,0, 1000)\n",
    "time.sleep(1)"
   ]
  },
  {
   "cell_type": "code",
   "execution_count": 8,
   "metadata": {},
   "outputs": [],
   "source": [
    "#2.2缩回\n",
    "Arm.Arm_serial_servo_write6(150,60,-30,150,90,0,3000)\n",
    "time.sleep(3)"
   ]
  },
  {
   "cell_type": "markdown",
   "metadata": {},
   "source": [
    "# B.喷水"
   ]
  },
  {
   "cell_type": "code",
   "execution_count": 3,
   "metadata": {},
   "outputs": [],
   "source": [
    "#0.复位\n",
    "Arm.Arm_serial_servo_write6(90,90,90,90,90,0,3000)\n",
    "time.sleep(3)"
   ]
  },
  {
   "cell_type": "code",
   "execution_count": 10,
   "metadata": {},
   "outputs": [],
   "source": [
    "#1.0→花盆旁边\n",
    "Arm.Arm_serial_servo_write6(60,90,2,80,90,180,3000)\n",
    "time.sleep(3)\n"
   ]
  },
  {
   "cell_type": "code",
   "execution_count": 5,
   "metadata": {},
   "outputs": [],
   "source": [
    "                # 移动到喷头附近\n",
    "                Arm.Arm_serial_servo_write6(60,60,-30,150,90,50,3000)\n",
    "                time.sleep(3)\n",
    "                #前进\n",
    "                Arm.Arm_serial_servo_write6(60, 35,20,120,90, 25, 3000)\n",
    "                time.sleep(3) \n",
    "                # 抓取\n",
    "                id = 6\n",
    "                Arm.Arm_serial_servo_write(id, 150, 2000)\n",
    "                time.sleep(2)"
   ]
  },
  {
   "cell_type": "code",
   "execution_count": 11,
   "metadata": {},
   "outputs": [],
   "source": [
    "#向下按\n",
    "Arm.Arm_serial_servo_write6(60,75,-30,142,90,180,3000)\n",
    "time.sleep(3)"
   ]
  },
  {
   "cell_type": "code",
   "execution_count": null,
   "metadata": {},
   "outputs": [],
   "source": [
    "#复位\n",
    "Arm.Arm_serial_servo_write6(90,90,90,90,90,0,3000)\n",
    "time.sleep(3)"
   ]
  }
 ],
 "metadata": {
  "kernelspec": {
   "display_name": "Python 3",
   "language": "python",
   "name": "python3"
  },
  "language_info": {
   "codemirror_mode": {
    "name": "ipython",
    "version": 3
   },
   "file_extension": ".py",
   "mimetype": "text/x-python",
   "name": "python",
   "nbconvert_exporter": "python",
   "pygments_lexer": "ipython3",
   "version": "3.6.9"
  }
 },
 "nbformat": 4,
 "nbformat_minor": 4
}

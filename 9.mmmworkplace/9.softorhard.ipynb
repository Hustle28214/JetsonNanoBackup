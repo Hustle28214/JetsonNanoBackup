{
 "cells": [
  {
   "cell_type": "code",
   "execution_count": 1,
   "metadata": {},
   "outputs": [],
   "source": [
    "import enum\n",
    "import cv2\n",
    "\n",
    "def bgr8_to_jpeg(value, quality=75):\n",
    "    return bytes(cv2.imencode('.jpg', value)[1])"
   ]
  },
  {
   "cell_type": "code",
   "execution_count": 2,
   "metadata": {},
   "outputs": [],
   "source": [
    "#!/usr/bin/env python3\n",
    "#coding=utf-8\n",
    "import time\n",
    "from Arm_Lib import Arm_Device\n",
    "import  serial\n",
    "import threading\n",
    "\n",
    "ser = serial.Serial('/dev/ttyACM0',9600,timeout=1)\n",
    "Arm = Arm_Device()\n",
    "time.sleep(.1)"
   ]
  },
  {
   "cell_type": "code",
   "execution_count": 3,
   "metadata": {},
   "outputs": [],
   "source": [
    "from Arm_Lib import Arm_Device\n",
    "\n",
    "Arm = Arm_Device()\n"
   ]
  },
  {
   "cell_type": "code",
   "execution_count": 4,
   "metadata": {},
   "outputs": [
    {
     "data": {
      "application/vnd.jupyter.widget-view+json": {
       "model_id": "7b22436d86094decb804793b62a6c093",
       "version_major": 2,
       "version_minor": 0
      },
      "text/plain": [
       "HBox(children=(Image(value=b'', format='jpeg', height='240', width='320'), Image(value=b'', format='jpeg', hei…"
      ]
     },
     "metadata": {},
     "output_type": "display_data"
    }
   ],
   "source": [
    "import traitlets\n",
    "import ipywidgets.widgets as widgets\n",
    "import time\n",
    "import threading\n",
    "import inspect\n",
    "import ctypes\n",
    "\n",
    "origin_widget = widgets.Image(format='jpeg', width=320, height=240)\n",
    "mask_widget = widgets.Image(format='jpeg',width=320, height=240)\n",
    "result_widget = widgets.Image(format='jpeg',width=320, height=240)\n",
    "\n",
    "image_container = widgets.HBox([origin_widget, mask_widget, result_widget])\n",
    "# image_container = widgets.Image(format='jpeg', width=600, height=500)\n",
    "display(image_container)"
   ]
  },
  {
   "cell_type": "code",
   "execution_count": 5,
   "metadata": {},
   "outputs": [],
   "source": [
    "def _async_raise(tid, exctype):\n",
    "    \"\"\"raises the exception, performs cleanup if needed\"\"\"\n",
    "    tid = ctypes.c_long(tid)\n",
    "    if not inspect.isclass(exctype):\n",
    "        exctype = type(exctype)\n",
    "    res = ctypes.pythonapi.PyThreadState_SetAsyncExc(tid, ctypes.py_object(exctype))\n",
    "    if res == 0:\n",
    "        raise ValueError(\"invalid thread id\")\n",
    "    elif res != 1:\n",
    "        ctypes.pythonapi.PyThreadState_SetAsyncExc(tid, None)\n",
    "        \n",
    "def stop_thread(thread):\n",
    "    _async_raise(thread.ident, SystemExit)"
   ]
  },
  {
   "cell_type": "code",
   "execution_count": 6,
   "metadata": {},
   "outputs": [],
   "source": [
    "def get_color(img):\n",
    "    H = []\n",
    "    color_name={}\n",
    "    img = cv2.resize(img, (640, 480), )\n",
    "    HSV = cv2.cvtColor(img, cv2.COLOR_BGR2HSV)\n",
    "    cv2.rectangle(img, (280, 180), (360, 260), (0, 255, 0), 2)\n",
    "    for i in range(280, 360):\n",
    "        for j in range(180, 260): H.append(HSV[j, i][0])\n",
    "    H_min = min(H);H_max = max(H)\n",
    "#     print(H_min,H_max)\n",
    "    if H_min >= 0 and H_max <= 6 or H_min >= 156 and H_max <= 180: color_name['name'] = 'red'\n",
    "    elif H_min >= 21 and H_max <= 34: color_name['name'] = 'yellow'\n",
    "    elif H_min >= 52 and H_max <= 84: color_name['name'] = 'green'\n",
    "    elif H_min >= 96 and H_max <= 124: color_name['name'] = 'blue'\n",
    "    return img, color_name"
   ]
  },
  {
   "cell_type": "code",
   "execution_count": 7,
   "metadata": {},
   "outputs": [],
   "source": [
    "# Define variable parameters at different locations\n",
    "# 定义不同位置的变量参数\n",
    "look_at = [90, 130, 0, 0, 90, 30]\n",
    "p_top = [90, 80, 50, 50, 270]\n",
    "\n",
    "p_Yellow = [65, 22, 64, 56, 270]\n",
    "p_Red = [118, 19, 66, 56, 270]\n",
    "\n",
    "p_Green = [136, 66, 20, 29, 270]\n",
    "p_Blue = [44, 66, 20, 28, 270]\n",
    "\n",
    "p_gray = [90, 48, 35, 30, 270]\n",
    "\n"
   ]
  },
  {
   "cell_type": "code",
   "execution_count": 8,
   "metadata": {},
   "outputs": [],
   "source": [
    "# Define control DOFBOT function, control No.1-No.6 servo，p=[S1,S2,S3,S4,S5,S6]\n",
    "# 定义移动机械臂函数,同时控制1-6号舵机运动，p=[S1,S2,S3,S4,S5,S6]\n",
    "def arm_move_6(p, s_time = 500):\n",
    "    for i in range(6):\n",
    "        id = i + 1\n",
    "        Arm.Arm_serial_servo_write(id, p[i], s_time)\n",
    "        time.sleep(.01)\n",
    "    time.sleep(s_time/1000)\n",
    "    \n",
    "# Define control DOFBOT function, control No.1-No.5 servo，p=[S1,S2,S3,S4,S5]\n",
    "# 定义移动机械臂函数,同时控制1-5号舵机运动，p=[S1,S2,S3,S4,S5]\n",
    "def arm_move(p, s_time = 500):\n",
    "    for i in range(5):\n",
    "        id = i + 1\n",
    "        if id == 5:\n",
    "            time.sleep(.1)\n",
    "            Arm.Arm_serial_servo_write(id, p[i], int(s_time*1.2))\n",
    "        elif id == 1 :\n",
    "            Arm.Arm_serial_servo_write(id, p[i], int(3*s_time/4))\n",
    "        else:\n",
    "            Arm.Arm_serial_servo_write(id, p[i], int(s_time))\n",
    "        time.sleep(.01)\n",
    "    time.sleep(s_time/1000)\n",
    "    \n",
    "# enable=1：clip，=0：release\n",
    "def arm_clamp_block(enable):\n",
    "    if enable == 0:\n",
    "        Arm.Arm_serial_servo_write(6, 60, 400)\n",
    "    else:\n",
    "        Arm.Arm_serial_servo_write(6, 145, 400)\n",
    "    time.sleep(.5)"
   ]
  },
  {
   "cell_type": "code",
   "execution_count": 9,
   "metadata": {},
   "outputs": [],
   "source": [
    "arm_move_6(look_at, 1000)\n",
    "time.sleep(1)"
   ]
  },
  {
   "cell_type": "code",
   "execution_count": 10,
   "metadata": {},
   "outputs": [],
   "source": [
    "global g_state_arm\n",
    "g_state_arm = 0\n",
    "\n",
    "def ctrl_arm_move(index):\n",
    "    arm_clamp_block(0)\n",
    "    if index == 1:\n",
    "        print(\"Yellow\")\n",
    "\n",
    "    elif index == 2:\n",
    "        print(\"Red\")\n",
    "\n",
    "    elif index == 3:\n",
    "        print(\"Green\")\n",
    "\n",
    "    elif index == 4:\n",
    "        print(\"Blue\")\n",
    "\n",
    "    \n",
    "    global g_state_arm\n",
    "    g_state_arm = 0\n"
   ]
  },
  {
   "cell_type": "code",
   "execution_count": 11,
   "metadata": {},
   "outputs": [],
   "source": [
    "# #Define the function corresponding to each number\n",
    "# 数字功能定义\n",
    "def number_action(index):\n",
    "    if index == 1:\n",
    "        # Grab yellow block\n",
    "        # 抓取黄色的积木块\n",
    "\n",
    "        arm_clamp_block(0)\n",
    "\n",
    "    elif index == 2:\n",
    "        # Grab red block\n",
    "        # 抓取红色的积木块\n",
    "\n",
    "        arm_clamp_block(0)\n",
    "\n",
    "    elif index == 3:\n",
    "        # Grab green block\n",
    "        # 抓取绿色的积木块\n",
    "\n",
    "        arm_clamp_block(0)\n",
    "\n",
    "    elif index == 4:\n",
    "        # Grab blue block\n",
    "        # 抓取蓝色的积木块\n",
    "\n",
    "        arm_clamp_block(0)\n",
    "\n",
    "    \n",
    "def put_down_block():\n",
    "\n",
    "    arm_move_6(look_at, 1000)\n",
    "\n",
    "    "
   ]
  },
  {
   "cell_type": "code",
   "execution_count": 12,
   "metadata": {},
   "outputs": [],
   "source": [
    "import cv2\n",
    "import numpy as np\n",
    "def out_xy(img):\n",
    "    x,y=0,0\n",
    "    gray = cv2.cvtColor(img,cv2.COLOR_BGR2GRAY)\n",
    "    gray = cv2.GaussianBlur(gray, (5, 5), 0)\n",
    "    kernel = np.ones((1, 5), np.uint8)\n",
    "    t, binary = cv2.threshold(gray, 90, 255, cv2.THRESH_BINARY_INV)\n",
    "\n",
    "    binary = cv2.morphologyEx(binary, cv2.MORPH_CLOSE, kernel, anchor=(2, 0), iterations=5)\n",
    "\n",
    "    contours, hierarchy = cv2.findContours(binary, cv2.RETR_TREE, cv2.CHAIN_APPROX_NONE)\n",
    "\n",
    "    cv2.drawContours(img, contours, -1, (0, 0, 255), 5)\n",
    "    if(len(contours)!=0):\n",
    "        x,y,w,h = cv2.boundingRect(contours[0])\n",
    "    return x,y"
   ]
  },
  {
   "cell_type": "code",
   "execution_count": 13,
   "metadata": {},
   "outputs": [],
   "source": [
    "def start_move_arm(index):\n",
    "    global g_state_arm\n",
    "    if g_state_arm == 0:\n",
    "        closeTid = threading.Thread(target = ctrl_arm_move, args = [index])\n",
    "        closeTid.setDaemon(True)\n",
    "        closeTid.start()\n",
    "        \n",
    "        g_state_arm = 1"
   ]
  },
  {
   "cell_type": "code",
   "execution_count": 14,
   "metadata": {},
   "outputs": [
    {
     "name": "stderr",
     "output_type": "stream",
     "text": [
      "Matplotlib created a temporary config/cache directory at /tmp/matplotlib-c1w2v_iy because the default path (/home/jetson/.config/matplotlib) is not a writable directory; it is highly recommended to set the MPLCONFIGDIR environment variable to a writable directory, in particular to speed up the import of Matplotlib and to better support multiprocessing.\n"
     ]
    }
   ],
   "source": [
    "import pandas as pd\n",
    "from sklearn.neighbors import KNeighborsClassifier\n",
    "\n",
    "def calculate_loc(x,y):\n",
    "    data = pd.read_csv('servo.csv')\n",
    "    X = data.iloc[:,0:2]\n",
    "    Y = data.iloc[:,2:]\n",
    "    neigh = KNeighborsClassifier(n_neighbors=3, weights='distance')\n",
    "    neigh.fit(X, Y)\n",
    "    a = neigh.predict([[x, y]])\n",
    "    final=[]\n",
    "    final = list(a[0])\n",
    "    final.append(270)\n",
    "    final.append(0)\n",
    "    arm_move_6(final, 1000)\n",
    "    ser.write(b'o')\n",
    "\n",
    "    \n",
    "\n",
    "    time.sleep(2)\n",
    "    return 0\n",
    "    "
   ]
  },
  {
   "cell_type": "code",
   "execution_count": 15,
   "metadata": {},
   "outputs": [],
   "source": [
    "import time\n",
    "import cv2\n",
    "def stable_xy(x,y):\n",
    "    if(x+y!=0):\n",
    "        cap = cv2.VideoCapture(0)\n",
    "        cap.set(3, 640)\n",
    "        cap.set(4, 480)\n",
    "        cap.set(5, 30)  \n",
    "        cap.set(cv2.CAP_PROP_FOURCC, cv2.VideoWriter.fourcc('M', 'J', 'P', 'G'))\n",
    "        time.sleep(1)\n",
    "        a=[0,0]\n",
    "        b=[0,0]\n",
    "        while(1):\n",
    "            ret, frame = cap.read()\n",
    "            b[0:2]=out_xy(frame)\n",
    "            res=abs(a[0]-b[0])+abs(a[1]-b[1])\n",
    "            if(res<10):\n",
    "                break                \n",
    "            a[0:2]=b[0:2]\n",
    "        x=a[0]\n",
    "        y=a[1]\n",
    "        return x,y\n"
   ]
  },
  {
   "cell_type": "code",
   "execution_count": 16,
   "metadata": {},
   "outputs": [],
   "source": [
    "# Grab a block from the gray block and put it on the red block.\n",
    "# 从灰色积木块位置抓取一块积木放到红色积木块的位置上。\n",
    "def arm_hard():\n",
    "    \n",
    "\n",
    "    arm_move(p_top, 1000)\n",
    "    arm_move(p_Red, 1000)\n",
    "    arm_clamp_block(0)\n",
    "\n",
    "    \n",
    "    arm_move(look_at, 1100)\n",
    "\n",
    "    time.sleep(1)\n"
   ]
  },
  {
   "cell_type": "code",
   "execution_count": 17,
   "metadata": {},
   "outputs": [],
   "source": [
    "# Grab a block from the gray block and put it on the yellow block.\n",
    "# 从灰色积木块位置抓取一块积木放到黄色积木块的位置上。\n",
    "def arm_soft():\n",
    "    \n",
    "    arm_move(p_top, 1000)\n",
    "    arm_move(p_Yellow, 1000)\n",
    "    arm_clamp_block(0)\n",
    "\n",
    "\n",
    "    arm_move(look_at, 1000)\n",
    "\n",
    "    time.sleep(1)"
   ]
  },
  {
   "cell_type": "code",
   "execution_count": 18,
   "metadata": {},
   "outputs": [],
   "source": [
    "import cv2\n",
    "import numpy as np\n",
    "import ipywidgets.widgets as widgets\n",
    "\n",
    "\n",
    "cap = cv2.VideoCapture(0)\n",
    "cap.set(3, 640)\n",
    "cap.set(4, 480)\n",
    "cap.set(5, 30)  \n",
    "cap.set(cv2.CAP_PROP_FOURCC, cv2.VideoWriter.fourcc('M', 'J', 'P', 'G'))\n",
    "# image.set(cv2.CAP_PROP_BRIGHTNESS, 40) \n",
    "# image.set(cv2.CAP_PROP_CONTRAST, 50)   \n",
    "# image.set(cv2.CAP_PROP_EXPOSURE, 156)  \n",
    "\n",
    "# Red is selected by default, and the program will automatically switch the color according to the color detected in the box\n",
    "# 默认选择红色的,程序会自动根据方框中检测到的颜色切换颜色\n",
    "# Red value\n",
    "# 红色区间\n",
    "\n",
    "# green value\n",
    "# 绿色区间\n",
    "# color_lower = np.array([35, 43, 46])\n",
    "# color_upper = np.array([77, 255, 255])\n",
    "\n",
    "# blue value\n",
    "# #蓝色区间\n",
    "# color_lower=np.array([100, 43, 46])\n",
    "# color_upper = np.array([124, 255, 255])\n",
    "\n",
    "# yellow value\n",
    "# #黄色区间\n",
    "# color_lower = np.array([26, 43, 46])\n",
    "# color_upper = np.array([34, 255, 255])\n",
    "\n",
    "# orange value\n",
    "# #橙色区间\n",
    "# color_lower = np.array([11, 43, 46])\n",
    "# color_upper = np.array([25, 255, 255])\n",
    "\n",
    "\n",
    "def Color_Recongnize():\n",
    "    global zuobiao\n",
    "    zuobiao=np.zeros([10,2])\n",
    "    Arm.Arm_Buzzer_On(1)\n",
    "    s_time = 300\n",
    "    Arm.Arm_serial_servo_write(4, 10, s_time)\n",
    "    time.sleep(s_time/1000)\n",
    "    Arm.Arm_serial_servo_write(4, 0, s_time)\n",
    "    time.sleep(s_time/1000)\n",
    "    Arm.Arm_serial_servo_write(4, 10, s_time)\n",
    "    time.sleep(s_time/1000)\n",
    "    Arm.Arm_serial_servo_write(4, 0, s_time)\n",
    "    time.sleep(s_time/1000)\n",
    "    count=0\n",
    "    while(1):\n",
    "        chary=0\n",
    "        ret, frame = cap.read()\n",
    "        frame = cv2.resize(frame, (640, 480), )\n",
    "\n",
    "        #cv2.imshow('Capture', frame)\n",
    "\n",
    "        # change to hsv model\n",
    "        x,y=out_xy(frame)\n",
    "        if(x+y!=0):\n",
    "            if(count<=9):\n",
    "                zuobiao[count,0]=x\n",
    "                zuobiao[count,1]=y\n",
    "                count+=1\n",
    "            elif(count==10):\n",
    "                zuobiao=zuobiao[np.lexsort(zuobiao.T)]\n",
    "                x=zuobiao[4,0]\n",
    "                y=zuobiao[4,1]\n",
    "                print(x,y)\n",
    "                calculate_loc(x,y)\n",
    "                flag = ser.inWaiting()\n",
    "                count=0\n",
    "                while(chary==0):\n",
    "                    if(flag!=0):\n",
    "                        \n",
    "                        if(b'a'==ser.read()):\n",
    "                            ser.flush()\n",
    "                            arm_clamp_block(1)\n",
    "                            while True:\n",
    "                                flag = ser.inWaiting()\n",
    "                                if (flag!=0):\n",
    "                        \n",
    "                        #S数据转换\n",
    "                                    a = ser.read(3)\n",
    "                                    print(a,end='\\n')\n",
    "                                    b = bytes.decode(a)\n",
    "                                    value = int(b)\n",
    "                                    print(value)\n",
    "                        \n",
    "                        #软硬判断\n",
    "                                    if(value>500):\n",
    "                                        arm_hard()\n",
    "                                        chary=1\n",
    "                                        break\n",
    "                                    else:\n",
    "                                        arm_soft()\n",
    "                                        chary=1\n",
    "                                        break\n",
    "\n",
    "                        \n",
    "        time.sleep(0.01)\n",
    "\n",
    "\n",
    "\n",
    "    cap.release()\n",
    "    #cv2.destroyAllWindows()"
   ]
  },
  {
   "cell_type": "code",
   "execution_count": 19,
   "metadata": {},
   "outputs": [
    {
     "name": "stdout",
     "output_type": "stream",
     "text": [
      "184.0 177.0\n",
      "b'516'\n",
      "516\n",
      "185.0 326.0\n"
     ]
    }
   ],
   "source": [
    "thread1 = threading.Thread(target=Color_Recongnize)\n",
    "thread1.setDaemon(True)\n",
    "thread1.start()"
   ]
  },
  {
   "cell_type": "code",
   "execution_count": null,
   "metadata": {},
   "outputs": [
    {
     "name": "stderr",
     "output_type": "stream",
     "text": [
      "Exception in thread Thread-4:\n",
      "Traceback (most recent call last):\n",
      "  File \"/usr/lib/python3.6/threading.py\", line 916, in _bootstrap_inner\n",
      "    self.run()\n",
      "  File \"/usr/lib/python3.6/threading.py\", line 864, in run\n",
      "    self._target(*self._args, **self._kwargs)\n",
      "  File \"<ipython-input-18-58e42b32c852>\", line 58, in Color_Recongnize\n",
      "    frame = cv2.resize(frame, (640, 480), )\n",
      "cv2.error: OpenCV(4.1.1) /home/nvidia/host/build_opencv/nv_opencv/modules/imgproc/src/resize.cpp:3720: error: (-215:Assertion failed) !ssize.empty() in function 'resize'\n",
      "\n",
      "\n"
     ]
    }
   ],
   "source": [
    "#End process, only need to execute this code at the end\n",
    "# #结束进程，只有在结束时才需要执行此段代码\n",
    "try:\n",
    "    while True:\n",
    "        time.sleep(.000001)\n",
    "except KeyboardInterrupt:\n",
    "    print(\" Program closed! \")\n",
    "    pass\n",
    "stop_thread(thread1)"
   ]
  },
  {
   "cell_type": "code",
   "execution_count": null,
   "metadata": {},
   "outputs": [],
   "source": [
    "cap.release()            "
   ]
  },
  {
   "cell_type": "code",
   "execution_count": null,
   "metadata": {},
   "outputs": [],
   "source": []
  }
 ],
 "metadata": {
  "kernelspec": {
   "display_name": "Python 2",
   "language": "python",
   "name": "python2"
  },
  "language_info": {
   "codemirror_mode": {
    "name": "ipython",
    "version": 3
   },
   "file_extension": ".py",
   "mimetype": "text/x-python",
   "name": "python",
   "nbconvert_exporter": "python",
   "pygments_lexer": "ipython3",
   "version": "3.6.9"
  }
 },
 "nbformat": 4,
 "nbformat_minor": 4
}

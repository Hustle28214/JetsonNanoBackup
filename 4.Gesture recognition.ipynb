{
 "cells": [
  {
   "cell_type": "code",
   "execution_count": 1,
   "metadata": {},
   "outputs": [],
   "source": [
    "import enum\n",
    "import cv2\n",
    "\n",
    "def bgr8_to_jpeg(value, quality=75):\n",
    "    return bytes(cv2.imencode('.jpg', value)[1])"
   ]
  },
  {
   "cell_type": "code",
   "execution_count": 2,
   "metadata": {},
   "outputs": [
    {
     "name": "stdout",
     "output_type": "stream",
     "text": [
      "pygame 2.5.0 (SDL 2.28.0, Python 3.8.10)\n",
      "Hello from the pygame community. https://www.pygame.org/contribute.html\n"
     ]
    }
   ],
   "source": [
    "import cv2 \n",
    "import time\n",
    "import demjson\n",
    "import pygame \n",
    "from aip import AipBodyAnalysis\n",
    "from aip import AipSpeech\n",
    "from PIL import Image, ImageDraw, ImageFont\n",
    "import numpy\n",
    "import ipywidgets.widgets as widgets\n",
    "\n",
    "# https://ai.baidu.com/ai-doc/BODY/4k3cpywrv\n",
    "hand={'One':'数字1','Two':'数字2','Three':'数字3','Four':'数字4',\n",
    "      'Five':'数字5', 'Six':'数字6','Seven':'数字7',\n",
    "      'Eight':'数字8','Nine':'数字9','Fist':'拳头','Ok':'OK',\n",
    "      'Prayer':'祈祷','Congratulation':'作揖','Honour':'作别',\n",
    "      'Heart_single':'比心心','Thumb_up':'点赞','Thumb_down':'Diss',\n",
    "      'ILY':'我爱你','Palm_up':'掌心向上','Heart_1':'双手比心1',\n",
    "      'Heart_2':'双手比心2','Heart_3':'双手比心3','Rock':'Rock',\n",
    "      'Insult':'竖中指','Face':'脸'}\n",
    "\n",
    "# 下面的key要换成自己的  # Using your key and ID\n",
    "\"\"\" APPID AK SK \"\"\"\n",
    "APP_ID = '24840713'\n",
    "API_KEY = 'WMvYkrI7omD8OyGlwqjHQMRK'\n",
    "SECRET_KEY = 'XAKxY0NyCL1QIfIRjEi8ScsPjGjsANuX'\n",
    "\n",
    "\n",
    "client = AipBodyAnalysis(APP_ID, API_KEY, SECRET_KEY)\n",
    "\n",
    "\n",
    "g_camera = cv2.VideoCapture(0)\n",
    "g_camera.set(3, 640)\n",
    "g_camera.set(4, 480)\n",
    "g_camera.set(5, 30)  #设置帧率  #Set frame\n",
    "g_camera.set(cv2.CAP_PROP_FOURCC, cv2.VideoWriter.fourcc('M', 'J', 'P', 'G'))\n",
    "g_camera.set(cv2.CAP_PROP_BRIGHTNESS, 40) #设置亮度 -64 - 64  0.0  #set brightness -64 - 64  0.0\n",
    "g_camera.set(cv2.CAP_PROP_CONTRAST, 50) #设置对比度 -64 - 64  2.0  #set contrast -64 - 64  2.0\n",
    "g_camera.set(cv2.CAP_PROP_EXPOSURE, 156) #设置曝光值 1.0 - 5000  156.0  #set exposure 1.0 - 5000  156.0\n",
    "\n",
    "\n",
    "ret, frame = g_camera.read()"
   ]
  },
  {
   "cell_type": "code",
   "execution_count": 3,
   "metadata": {},
   "outputs": [
    {
     "data": {
      "application/vnd.jupyter.widget-view+json": {
       "model_id": "228f536434ac430e87632df273ef7418",
       "version_major": 2,
       "version_minor": 0
      },
      "text/plain": [
       "Image(value=b'', format='jpeg', height='500', width='600')"
      ]
     },
     "metadata": {},
     "output_type": "display_data"
    }
   ],
   "source": [
    "image_widget = widgets.Image(format='jpeg', width=600, height=500)  \n",
    "display(image_widget)   \n",
    "image_widget.value = bgr8_to_jpeg(frame)"
   ]
  },
  {
   "cell_type": "code",
   "execution_count": 4,
   "metadata": {},
   "outputs": [],
   "source": [
    "def cv2ImgAddText(img, text, left, top, textColor=(0, 255, 0), textSize=20):\n",
    "    if (isinstance(img, numpy.ndarray)):  \n",
    "        img = Image.fromarray(cv2.cvtColor(img, cv2.COLOR_BGR2RGB))\n",
    "    \n",
    "    draw = ImageDraw.Draw(img)\n",
    "  \n",
    "    fontStyle = ImageFont.truetype(\n",
    "        \"simhei.ttf\", textSize, encoding=\"utf-8\")\n",
    "\n",
    "    draw.text((left, top), text, textColor, font=fontStyle)\n",
    "  \n",
    "    return cv2.cvtColor(numpy.asarray(img), cv2.COLOR_RGB2BGR)"
   ]
  },
  {
   "cell_type": "code",
   "execution_count": 5,
   "metadata": {},
   "outputs": [
    {
     "name": "stdout",
     "output_type": "stream",
     "text": [
      " Program closed! \n"
     ]
    }
   ],
   "source": [
    "try:\n",
    "    while True:     \n",
    "        ret, frame = g_camera.read()\n",
    "        #image = get_file_content('./image.jpg')\n",
    "\n",
    "        raw = str(client.gesture(image_widget.value))\n",
    "        text = demjson.decode(raw)\n",
    "        try:\n",
    "            res = text['result'][0]['classname']\n",
    "        except:\n",
    "    #         img = cv2ImgAddText(frame, \"unrecognized\", 250, 30, (0, 0 , 255), 30)\n",
    "            img = frame\n",
    "        else:\n",
    "   \n",
    "            if res == 'Prayer': \n",
    "                print('Recognition result：' + hand[res])\n",
    "                img = cv2ImgAddText(frame, hand[res], 250, 30, (0, 255 , 0), 30)\n",
    "               \n",
    "            elif res == 'Thumb_up':\n",
    "                print('Recognition result：' + hand[res])\n",
    "                img = cv2ImgAddText(frame, hand[res], 250, 30, (0, 255 , 0), 30)\n",
    "               \n",
    "            elif res == 'Ok': # 3 OK\n",
    "                print('Recognition result：' + hand[res])\n",
    "                img = cv2ImgAddText(frame, hand[res], 250, 30, (0, 255 , 0), 30)\n",
    "               \n",
    "            elif res == 'Heart_single': \n",
    "                print('Recognition result：' + hand[res])\n",
    "                img = cv2ImgAddText(frame, hand[res], 250, 30, (0, 255 , 0), 30)\n",
    "               \n",
    "            elif res == 'Five': # 5 \n",
    "                print('Recognition result：' + hand[res])\n",
    "                img = cv2ImgAddText(frame, hand[res], 250, 30, (0, 255 , 0), 30)\n",
    "               \n",
    "            elif res == \"Eight\": \n",
    "                print('Recognition result：' + hand[res])\n",
    "                img = cv2ImgAddText(frame, hand[res], 250, 30, (0, 255 , 0), 30)\n",
    "               \n",
    "                \n",
    "            elif res == \"Rock\": # rock\n",
    "                print('Recognition result：' + hand[res])\n",
    "                img = cv2ImgAddText(frame, hand[res], 250, 30, (0, 255 , 0), 30)\n",
    "                \n",
    "            elif res == \"Congratulation\":\n",
    "                print('Recognition result：' + hand[res])\n",
    "                img = cv2ImgAddText(frame, hand[res], 250, 30, (0, 255 , 0), 30)\n",
    "               \n",
    "            elif res == \"Seven\": \n",
    "                print('Recognition result：' + hand[res])\n",
    "                img = cv2ImgAddText(frame, hand[res], 250, 30, (0, 255 , 0), 30)\n",
    "            \n",
    "            elif res == \"Thumb_down\": \n",
    "                print('Recognition result：' + hand[res])\n",
    "                img = cv2ImgAddText(frame, hand[res], 250, 30, (0, 255 , 0), 30)\n",
    "              \n",
    "                \n",
    "            else:\n",
    "                img = frame\n",
    "\n",
    "        image_widget.value = bgr8_to_jpeg(img)\n",
    "except KeyboardInterrupt:\n",
    "    print(\" Program closed! \")\n",
    "    pass"
   ]
  },
  {
   "cell_type": "code",
   "execution_count": 6,
   "metadata": {},
   "outputs": [],
   "source": [
    "g_camera.release()            "
   ]
  },
  {
   "cell_type": "code",
   "execution_count": null,
   "metadata": {},
   "outputs": [],
   "source": []
  }
 ],
 "metadata": {
  "kernelspec": {
   "display_name": "Python 3",
   "language": "python",
   "name": "python3"
  },
  "language_info": {
   "codemirror_mode": {
    "name": "ipython",
    "version": 3
   },
   "file_extension": ".py",
   "mimetype": "text/x-python",
   "name": "python",
   "nbconvert_exporter": "python",
   "pygments_lexer": "ipython3",
   "version": "3.6.9"
  }
 },
 "nbformat": 4,
 "nbformat_minor": 5
}

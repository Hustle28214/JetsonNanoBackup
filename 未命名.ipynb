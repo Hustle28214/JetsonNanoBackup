{
 "cells": [
  {
   "cell_type": "code",
   "execution_count": 1,
   "metadata": {},
   "outputs": [],
   "source": [
    "#!/usr/bin/env python3\n",
    "#coding=utf-8\n",
    "import time\n",
    "from Arm_Lib import Arm_Device\n",
    "import  serial\n",
    "import threading\n",
    "\n",
    "ser = serial.Serial('/dev/ttyACM0',9600,timeout=1)\n",
    "Arm = Arm_Device()\n",
    "time.sleep(.1)\n"
   ]
  },
  {
   "cell_type": "code",
   "execution_count": 2,
   "metadata": {},
   "outputs": [],
   "source": [
    "# Define the function of sandwich block, enable = 1: clamp, = 0: loosen\n",
    "# 定义夹积木块函数，enable=1：夹住，=0：松开\n",
    "def arm_clamp_block(enable):\n",
    "    if enable == 0:\n",
    "        Arm.Arm_serial_servo_write(6, 60, 1100)\n",
    "    else:\n",
    "        Arm.Arm_serial_servo_write(6, 120, 1000)\n",
    "        time.sleep(0.2)\n",
    "        Arm.Arm_serial_servo_write(6, 145, 1000)\n",
    "    time.sleep(.5)\n",
    "\n",
    "    \n",
    "# Define the function of mobile manipulator and control the motion of No. 1-5 steering gear at the same time, P = [S1, S2, S3, S4, S5]\n",
    "# 定义移动机械臂函数,同时控制1-5号舵机运动，p=[S1,S2,S3,S4,S5]\n",
    "def arm_move(p, s_time = 500):\n",
    "    for i in range(5):\n",
    "        id = i + 1\n",
    "        if id == 5:\n",
    "            time.sleep(.1)\n",
    "            Arm.Arm_serial_servo_write(id, p[i], int(s_time*1.2))\n",
    "        else :\n",
    "            Arm.Arm_serial_servo_write(id, p[i], s_time)\n",
    "        time.sleep(.01)\n",
    "    time.sleep(s_time/1000)\n",
    "\n",
    "# The manipulator moves upward\n",
    "# 机械臂向上移动\n",
    "def arm_move_up():\n",
    "    Arm.Arm_serial_servo_write(2, 90, 1500)\n",
    "    Arm.Arm_serial_servo_write(3, 90, 1500)\n",
    "    Arm.Arm_serial_servo_write(4, 90, 1500)\n",
    "    time.sleep(.1)\n"
   ]
  },
  {
   "cell_type": "code",
   "execution_count": 3,
   "metadata": {},
   "outputs": [],
   "source": [
    "# Define variable parameters at different locations\n",
    "# 定义不同位置的变量参数红为硬，黄为软\n",
    "p_mould = [90, 130, 0, 0, 90]\n",
    "p_top = [90, 80, 50, 50, 270]\n",
    "p_Brown = [90, 53, 33, 36, 270]\n",
    "\n",
    "p_Yellow = [65, 22, 64, 56, 270]\n",
    "p_Red = [117, 19, 66, 56, 270]\n",
    "\n",
    "p_Green = [136, 66, 20, 29, 270]\n",
    "p_Blue = [44, 66, 20, 28, 270]\n"
   ]
  },
  {
   "cell_type": "code",
   "execution_count": 4,
   "metadata": {},
   "outputs": [],
   "source": [
    "def arm_clamp():#夹取\n",
    "    arm_clamp_block(0)\n",
    "    arm_move(p_mould, 1000)\n",
    "    time.sleep(1)\n",
    "    \n",
    "    arm_move(p_top, 1000)\n",
    "    arm_move(p_Brown, 1000)\n",
    "    arm_clamp_block(1)\n",
    "    time.sleep(0.5)\n",
    "    "
   ]
  },
  {
   "cell_type": "code",
   "execution_count": 5,
   "metadata": {},
   "outputs": [],
   "source": [
    "# Grab a block from the gray block and put it on the yellow block.\n",
    "# 从灰色积木块位置抓取一块积木放到黄色积木块的位置上。\n",
    "def arm_soft():\n",
    "    \n",
    "    arm_move(p_top, 1000)\n",
    "    arm_move(p_Yellow, 1000)\n",
    "    arm_clamp_block(0)\n",
    "\n",
    "\n",
    "    arm_move(p_mould, 1000)\n",
    "\n",
    "    time.sleep(1)\n"
   ]
  },
  {
   "cell_type": "code",
   "execution_count": 6,
   "metadata": {},
   "outputs": [],
   "source": [
    "# Grab a block from the gray block and put it on the red block.\n",
    "# 从灰色积木块位置抓取一块积木放到红色积木块的位置上。\n",
    "def arm_hard():\n",
    "    \n",
    "\n",
    "    arm_move(p_top, 1000)\n",
    "    arm_move(p_Red, 1000)\n",
    "    arm_clamp_block(0)\n",
    "\n",
    "    arm_move_up()\n",
    "    arm_move(p_mould, 1100)\n",
    "\n",
    "    time.sleep(1)\n"
   ]
  },
  {
   "cell_type": "code",
   "execution_count": 7,
   "metadata": {},
   "outputs": [],
   "source": [
    "#S数据转换\n",
    "def data_transfrom():\n",
    "    \n",
    "    a = ser.read(3)\n",
    "    print(a,end='\\n')\n",
    "    b = bytes.decode(a)\n",
    "    value = int(b)\n",
    "    print(value)\n",
    "    "
   ]
  },
  {
   "cell_type": "code",
   "execution_count": null,
   "metadata": {},
   "outputs": [
    {
     "name": "stdout",
     "output_type": "stream",
     "text": [
      "b'329'\n",
      "329\n",
      "b'654'\n",
      "654\n"
     ]
    }
   ],
   "source": [
    " while True:\n",
    "        count = ser.inWaiting()\n",
    "        if count!=0:\n",
    "            if(b'a'==ser.read()):\n",
    "                ser.flush()\n",
    "                arm_clamp()\n",
    "                \n",
    "                while True:\n",
    "                    count = ser.inWaiting()\n",
    "                    if (count!=0):\n",
    "                        \n",
    "                        #S数据转换\n",
    "                        a = ser.read(3)\n",
    "                        print(a,end='\\n')\n",
    "                        b = bytes.decode(a)\n",
    "                        value = int(b)\n",
    "                        print(value)\n",
    "                        \n",
    "                        #软硬判断\n",
    "                        if(value>540):\n",
    "                            arm_hard()\n",
    "                            break\n",
    "                        else:\n",
    "                            arm_soft()\n",
    "                            break\n",
    "                    \n",
    "                \n"
   ]
  },
  {
   "cell_type": "code",
   "execution_count": null,
   "metadata": {},
   "outputs": [],
   "source": []
  },
  {
   "cell_type": "code",
   "execution_count": null,
   "metadata": {},
   "outputs": [],
   "source": []
  }
 ],
 "metadata": {
  "kernelspec": {
   "display_name": "Python 2",
   "language": "python",
   "name": "python2"
  },
  "language_info": {
   "codemirror_mode": {
    "name": "ipython",
    "version": 3
   },
   "file_extension": ".py",
   "mimetype": "text/x-python",
   "name": "python",
   "nbconvert_exporter": "python",
   "pygments_lexer": "ipython3",
   "version": "3.6.9"
  }
 },
 "nbformat": 4,
 "nbformat_minor": 4
}
